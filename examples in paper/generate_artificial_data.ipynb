{
 "cells": [
  {
   "cell_type": "code",
   "execution_count": null,
   "metadata": {},
   "outputs": [],
   "source": [
    "import numpy as np\n",
    "import matplotlib.pyplot as plt\n",
    "import scipy.io as sio\n",
    "import sys\n",
    "sys.path.append('../code/');\n",
    "\n",
    "import simulate_data as sd\n",
    "import encoding as enc\n",
    "\n",
    "seed = 888;\n",
    "np.random.seed(seed) # fix randomness"
   ]
  },
  {
   "cell_type": "code",
   "execution_count": null,
   "metadata": {},
   "outputs": [],
   "source": [
    "deconv = sio.loadmat(\"../data/ADN29081-Z_20_10_2018/s_0_deconv.mat\");\n",
    "Y_real = (deconv['s']).T;\n",
    "hd = sio.loadmat(\"../data/ADN29081-Z_20_10_2018/HD_180_deg_ADN29081-Z_20_10_2018.mat\")['HD_180_deg_total'];\n",
    "frame_map = sio.loadmat(\"../data/ADN29081-Z_20_10_2018/frameMap_ADN29081-Z_20_10_2018.mat\")[\"frameMap\"]\n",
    "hd = hd[0,frame_map[:,0]-1];\n",
    "\n",
    "bin_len=181;"
   ]
  },
  {
   "cell_type": "code",
   "execution_count": null,
   "metadata": {},
   "outputs": [],
   "source": [
    "tuning_curve = enc.get_tc(Y_real, hd, bin_len);"
   ]
  },
  {
   "cell_type": "markdown",
   "metadata": {},
   "source": [
    "# simulate from poisson distribution"
   ]
  },
  {
   "cell_type": "code",
   "execution_count": null,
   "metadata": {},
   "outputs": [],
   "source": [
    "stims = np.repeat(hd, repeats=33);\n",
    "stims = np.tile(stims,3);"
   ]
  },
  {
   "cell_type": "code",
   "execution_count": null,
   "metadata": {},
   "outputs": [],
   "source": [
    "np.random.seed(seed);\n",
    "factors = np.random.uniform(0.5,10,Y_real.shape[1]);"
   ]
  },
  {
   "cell_type": "code",
   "execution_count": null,
   "metadata": {},
   "outputs": [],
   "source": [
    "spike_s = np.zeros((int(stims.shape[0]/33),Y_real.shape[1]));\n",
    "cal = np.zeros((int(stims.shape[0]/33),Y_real.shape[1]));\n",
    "noisy_cal = np.zeros((int(stims.shape[0]/33),Y_real.shape[1]));\n",
    "for ii in range(Y_real.shape[1]):\n",
    "    spike_s[:,ii], cal[:,ii], noisy_cal[:,ii] = sd.simfp(ii, tuning_curve*100, deconv['sn']*100, stims)"
   ]
  },
  {
   "cell_type": "code",
   "execution_count": null,
   "metadata": {},
   "outputs": [],
   "source": [
    "spike_s = spike_s*np.array([factors]);\n",
    "cal = cal*np.array([factors]);\n",
    "noisy_cal = noisy_cal*np.array([factors]);"
   ]
  },
  {
   "cell_type": "code",
   "execution_count": null,
   "metadata": {},
   "outputs": [],
   "source": [
    "sio.savemat(\"../data/simulated/sim_3stim_vary_snr.mat\", \n",
    "           {'cal':cal, 'spikes':spike_s, 'noisy_cal':noisy_cal, 'factors':factors});"
   ]
  },
  {
   "cell_type": "markdown",
   "metadata": {},
   "source": [
    "# simulate from negative binomial distribution"
   ]
  },
  {
   "cell_type": "code",
   "execution_count": null,
   "metadata": {},
   "outputs": [],
   "source": [
    "stims = hd.copy();\n",
    "stims = np.tile(stims,3);"
   ]
  },
  {
   "cell_type": "code",
   "execution_count": null,
   "metadata": {},
   "outputs": [],
   "source": [
    "np.random.seed(seed);\n",
    "factors = np.random.uniform(2,5,Y_real.shape[1]);\n",
    "\n",
    "np.random.seed(seed);\n",
    "factors2 = np.random.uniform(0.5,10,Y_real.shape[1]);"
   ]
  },
  {
   "cell_type": "code",
   "execution_count": null,
   "metadata": {},
   "outputs": [],
   "source": [
    "spike_s = np.zeros((stims.shape[0],Y_real.shape[1]));\n",
    "cal = np.zeros((stims.shape[0],Y_real.shape[1]));\n",
    "noisy_cal = np.zeros((stims.shape[0],Y_real.shape[1]));\n",
    "for ii in range(Y_real.shape[1]):\n",
    "    spike_s[:,ii], cal[:,ii], noisy_cal[:,ii] = sd.simfnb(ii, tuning_curve*100, \n",
    "                                                    deconv['sn']*100, stims, factors=factors)"
   ]
  },
  {
   "cell_type": "code",
   "execution_count": null,
   "metadata": {},
   "outputs": [],
   "source": [
    "spike_s = spike_s*np.array([factors2]);\n",
    "cal = cal*np.array([factors2]);\n",
    "noisy_cal = noisy_cal*np.array([factors2]);"
   ]
  },
  {
   "cell_type": "code",
   "execution_count": null,
   "metadata": {},
   "outputs": [],
   "source": [
    "sio.savemat(\"../data/simulated/sim_3stim_vnb_vary_snr.mat\", \n",
    "           {'cal':cal, 'spikes':spike_s, 'noisy_cal':noisy_cal, 'factors':factors,'factors2':factors2});"
   ]
  },
  {
   "cell_type": "code",
   "execution_count": null,
   "metadata": {},
   "outputs": [],
   "source": []
  }
 ],
 "metadata": {
  "kernelspec": {
   "display_name": "Python 3",
   "language": "python",
   "name": "python3"
  }
 },
 "nbformat": 4,
 "nbformat_minor": 2
}
